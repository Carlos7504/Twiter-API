{
 "cells": [
  {
   "cell_type": "code",
   "execution_count": 1,
   "id": "21cec6d5",
   "metadata": {},
   "outputs": [],
   "source": [
    "import tweepy as tw"
   ]
  },
  {
   "cell_type": "code",
   "execution_count": 2,
   "id": "69ccf014",
   "metadata": {},
   "outputs": [],
   "source": [
    "api_key = \"nem6r7TQAFO061tidj52lynf5\"\n",
    "api_key_secret = \"LUMNRGUFoH6lOvNaWI88ZjtqKqnPyery0pGAQBjg8qjOc3qFsu\"\n",
    "token = \"1128627387158224896-qWxUojJEsPfsNrncJkh4Xmq75NKP2a\"\n",
    "token_secret = \"qAkExPbXMOw2bFkdRJhJYbwIqLPox6xjPrG8fRhAFyjdG\""
   ]
  },
  {
   "cell_type": "code",
   "execution_count": 3,
   "id": "26b2f0b8",
   "metadata": {},
   "outputs": [],
   "source": [
    "auth = tw.OAuthHandler(api_key, api_key_secret)"
   ]
  },
  {
   "cell_type": "code",
   "execution_count": 4,
   "id": "d3abce0f",
   "metadata": {},
   "outputs": [],
   "source": [
    "auth.set_access_token(token, token_secret)"
   ]
  },
  {
   "cell_type": "code",
   "execution_count": 5,
   "id": "05e90a68",
   "metadata": {},
   "outputs": [],
   "source": [
    "api = tw.API(auth)"
   ]
  },
  {
   "cell_type": "code",
   "execution_count": 6,
   "id": "3e9127d0",
   "metadata": {},
   "outputs": [],
   "source": [
    "#tweet = api.update_status(\"ooooo\")"
   ]
  },
  {
   "cell_type": "code",
   "execution_count": 40,
   "id": "b79187bf",
   "metadata": {},
   "outputs": [],
   "source": [
    "tweets = tw.Cursor(api.search_tweets, q = \"python\", since = '2022-01-01',\n",
    "                  lang = 'pt').items(20)"
   ]
  },
  {
   "cell_type": "code",
   "execution_count": 41,
   "id": "6b86db2d",
   "metadata": {},
   "outputs": [
    {
     "name": "stderr",
     "output_type": "stream",
     "text": [
      "Unexpected parameter: since\n",
      "Unexpected parameter: since\n"
     ]
    },
    {
     "name": "stdout",
     "output_type": "stream",
     "text": [
      "andartolo\n",
      "Brasil\n",
      "ANTES DE CASAR confiram se ele/ela são fãs de Monty Python\n",
      "-----\n",
      "\n",
      "\n",
      "Sistematologica\n",
      "Rio de Janeiro, Brasil\n",
      "#shorts Desafio: função fatorial em menos de 60 segundos - IDEONE - Python https://t.co/0iH3bVXkqn via \n",
      "@YouTube\n",
      "-----\n",
      "\n",
      "\n",
      "soldapatria\n",
      "\n",
      "Anysio reside no fato de que ele entendeu o Brasil profundo, não aviltava seus valores, ao contrário de boçais como… https://t.co/qOsDObsIzV\n",
      "-----\n",
      "\n",
      "\n",
      "Milenaauzi\n",
      "Amazonas, Brazil\n",
      "@gabriel1991 sim, pra visualização o Python não tem muita biblioteca legal, mas essa é boa\n",
      "-----\n",
      "\n",
      "\n",
      "lethaseulin\n",
      "\n",
      "no momento torcendo pra duas pessoas esquecerem de olhar o site do entra21 pra python\n",
      "-----\n",
      "\n",
      "\n",
      "enzogfranco\n",
      "\n",
      "@nansfer Huum da uma olhada na Udemy, eles tem cursos de várias áreas com certificado. Foi onde fiz meu curso de Python.\n",
      "-----\n",
      "\n",
      "\n",
      "iamVinii__\n",
      "\n",
      "@kawtt7 @BrunoRataque Nunca usei Python, então essa opinião de que o Python é fácil eu não compartilho. Já o Java é… https://t.co/j4Qb61AkBu\n",
      "-----\n",
      "\n",
      "\n",
      "rlresende\n",
      "Brasília, Brazil\n",
      "RT @LINUXtipsBR: O treinamento Python Base já está disponivel para alunos da LINUXtips!!! \n",
      "\n",
      "Corre no chat do site ou no e-mail contato@linu…\n",
      "-----\n",
      "\n",
      "\n",
      "omattmeyer\n",
      "Minas Gerais, Brasil\n",
      "@BrunoRataque se quiser fazer uma paradinha bem basica com prompt de comando aprende portugol no visual g\n",
      "\n",
      "se quise… https://t.co/lfjKXEfwiR\n",
      "-----\n",
      "\n",
      "\n",
      "Leitzkeig\n",
      "\n",
      "hoje fui inventar de estudar python e R, só fui humilhada\n",
      "-----\n",
      "\n",
      "\n",
      "catraposinho\n",
      "\n",
      "eu provavelmente devia voltar a aprender python mas sinto que vou entrar na minha male manipulator kanye west enjoy… https://t.co/h33vkP2JVt\n",
      "-----\n",
      "\n",
      "\n",
      "HordLawk\n",
      "INTP | 5w4 | 594\n",
      "@NOMEARTURSEMH @BrunoRataque esse meme ilustra bem\n",
      "obstaculos que voce teria que lidar em qualquer outra linguagem… https://t.co/L0NAzZYJcz\n",
      "-----\n",
      "\n",
      "\n",
      "andretecco\n",
      "\n",
      "RT @LINUXtipsBR: O treinamento Python Base já está disponivel para alunos da LINUXtips!!! \n",
      "\n",
      "Corre no chat do site ou no e-mail contato@linu…\n",
      "-----\n",
      "\n",
      "\n",
      "carlosenog\n",
      "Porto, Portugal\n",
      "RT @LINUXtipsBR: O treinamento Python Base já está disponivel para alunos da LINUXtips!!! \n",
      "\n",
      "Corre no chat do site ou no e-mail contato@linu…\n",
      "-----\n",
      "\n",
      "\n",
      "AndrewLaganaro\n",
      "Fort Knox, KY\n",
      "@AkitaOnRails Já que a melhor linguagem é Python o vídeo terá 3 minutos e milhões de likes. Parabéns 🎉🎉🎉\n",
      "-----\n",
      "\n",
      "\n",
      "kawtt7\n",
      "Rio de Janeiro\n",
      "@iamVinii__ @BrunoRataque Ta achando realmente de boa? Eu tentei aorender python com o guanabara, mas nao fui pra f… https://t.co/omZbTkFssn\n",
      "-----\n",
      "\n",
      "\n",
      "python_xra\n",
      "São José dos Campos\n",
      "mano eu que to por fora? ano de eleição e de copa e ngm ta falando sobre, o que ta rolando de mais importante pro p… https://t.co/uGlwUQMHHZ\n",
      "-----\n",
      "\n",
      "\n",
      "1000_tin\n",
      "São Paulo, Brasil\n",
      "RT @LINUXtipsBR: O treinamento Python Base já está disponivel para alunos da LINUXtips!!! \n",
      "\n",
      "Corre no chat do site ou no e-mail contato@linu…\n",
      "-----\n",
      "\n",
      "\n",
      "python_xra\n",
      "São José dos Campos\n",
      "quem vai ser o vice do bolsonaro?\n",
      "-----\n",
      "\n",
      "\n",
      "badtux_\n",
      "The Netherlands\n",
      "RT @LINUXtipsBR: O treinamento Python Base já está disponivel para alunos da LINUXtips!!! \n",
      "\n",
      "Corre no chat do site ou no e-mail contato@linu…\n",
      "-----\n",
      "\n",
      "\n"
     ]
    }
   ],
   "source": [
    "for tweet in tweets:\n",
    "    print(tweet.user.screen_name)\n",
    "    print(tweet.user.location)\n",
    "    print(tweet.text)\n",
    "    print('-----')\n",
    "    print('\\n')\n",
    "    "
   ]
  },
  {
   "cell_type": "code",
   "execution_count": 42,
   "id": "f65081f0",
   "metadata": {},
   "outputs": [],
   "source": [
    "famosos = ['cauareymond','aguiarthur','ivetesangalo','ClaudiaLeitte','neymarjr','BruMarquezine','mariruybarbosa',\n",
    "'FePaesLeme','Tatawerneck','FlaviaAleReal','julianapaes','dedesecco','SabrinaSato','ahickmann','gusttavo_lima','Anitta',\n",
    "'CarolCastroReal','gio_antonelli','maisa','cleooficial','gewbank','taisdeverdade','otaviano','bernardipaloma',\n",
    "'IngridGuimaraes','olazaroramos','GalisteuOficial','debranascimento','FioMattheis','moalfradique','Nandacostareal']"
   ]
  },
  {
   "cell_type": "code",
   "execution_count": 51,
   "id": "8840b25c",
   "metadata": {},
   "outputs": [
    {
     "name": "stderr",
     "output_type": "stream",
     "text": [
      "Unexpected parameter: since\n"
     ]
    },
    {
     "name": "stdout",
     "output_type": "stream",
     "text": [
      "Author: cauareymond\n",
      "Imagens postadas:\n"
     ]
    },
    {
     "name": "stderr",
     "output_type": "stream",
     "text": [
      "Unexpected parameter: since\n",
      "Unexpected parameter: since\n"
     ]
    },
    {
     "name": "stdout",
     "output_type": "stream",
     "text": [
      "http://pbs.twimg.com/media/FNf4OTiVcAEPmV-.jpg\n",
      "http://pbs.twimg.com/media/FO8uK3gXEAE8c5v.jpg\n",
      "-----\n",
      "\n",
      "\n",
      "Author: aguiarthur\n",
      "Imagens postadas:\n"
     ]
    },
    {
     "name": "stderr",
     "output_type": "stream",
     "text": [
      "Unexpected parameter: since\n"
     ]
    },
    {
     "name": "stdout",
     "output_type": "stream",
     "text": [
      "http://pbs.twimg.com/media/FQLaClGX0AgAiHG.jpg\n",
      "http://pbs.twimg.com/media/FQLYsfiWUAUX-eg.jpg\n",
      "http://pbs.twimg.com/media/FQLYsfiWUAUX-eg.jpg\n",
      "http://pbs.twimg.com/media/FQJTbutWQAAi7b2.jpg\n"
     ]
    },
    {
     "name": "stderr",
     "output_type": "stream",
     "text": [
      "Unexpected parameter: since\n"
     ]
    },
    {
     "name": "stdout",
     "output_type": "stream",
     "text": [
      "http://pbs.twimg.com/media/FQLZ7e9XMAkwphj.jpg\n",
      "http://pbs.twimg.com/media/FQLYsfiWUAUX-eg.jpg\n",
      "http://pbs.twimg.com/media/FQLYsfiWUAUX-eg.jpg\n",
      "-----\n",
      "\n",
      "\n",
      "Author: ivetesangalo\n",
      "Imagens postadas:\n"
     ]
    },
    {
     "name": "stderr",
     "output_type": "stream",
     "text": [
      "Unexpected parameter: since\n"
     ]
    },
    {
     "name": "stdout",
     "output_type": "stream",
     "text": [
      "http://pbs.twimg.com/ext_tw_video_thumb/1514008475478773770/pu/img/Wkj0F9U4hAR_fu0v.jpg\n"
     ]
    },
    {
     "name": "stderr",
     "output_type": "stream",
     "text": [
      "Unexpected parameter: since\n"
     ]
    },
    {
     "name": "stdout",
     "output_type": "stream",
     "text": [
      "-----\n",
      "\n",
      "\n",
      "Author: ClaudiaLeitte\n",
      "Imagens postadas:\n"
     ]
    },
    {
     "name": "stderr",
     "output_type": "stream",
     "text": [
      "Unexpected parameter: since\n",
      "Unexpected parameter: since\n"
     ]
    },
    {
     "name": "stdout",
     "output_type": "stream",
     "text": [
      "http://pbs.twimg.com/ext_tw_video_thumb/1509285142291959820/pu/img/RokuF5nrUNYHEb8_.jpg\n",
      "-----\n",
      "\n",
      "\n",
      "Author: neymarjr\n",
      "Imagens postadas:\n"
     ]
    },
    {
     "name": "stderr",
     "output_type": "stream",
     "text": [
      "Unexpected parameter: since\n"
     ]
    },
    {
     "name": "stdout",
     "output_type": "stream",
     "text": [
      "http://pbs.twimg.com/media/FQLaACOWYAcwb7a.jpg\n"
     ]
    },
    {
     "name": "stderr",
     "output_type": "stream",
     "text": [
      "Unexpected parameter: since\n"
     ]
    },
    {
     "name": "stdout",
     "output_type": "stream",
     "text": [
      "-----\n",
      "\n",
      "\n",
      "Author: BruMarquezine\n",
      "Imagens postadas:\n"
     ]
    },
    {
     "name": "stderr",
     "output_type": "stream",
     "text": [
      "Unexpected parameter: since\n"
     ]
    },
    {
     "name": "stdout",
     "output_type": "stream",
     "text": [
      "http://pbs.twimg.com/media/FQLTonSVkAUczwt.jpg\n"
     ]
    },
    {
     "name": "stderr",
     "output_type": "stream",
     "text": [
      "Unexpected parameter: since\n"
     ]
    },
    {
     "name": "stdout",
     "output_type": "stream",
     "text": [
      "http://pbs.twimg.com/media/FQLGfn0WUAw7Udz.jpg\n",
      "-----\n",
      "\n",
      "\n",
      "Author: mariruybarbosa\n",
      "Imagens postadas:\n"
     ]
    },
    {
     "name": "stderr",
     "output_type": "stream",
     "text": [
      "Unexpected parameter: since\n"
     ]
    },
    {
     "name": "stdout",
     "output_type": "stream",
     "text": [
      "http://pbs.twimg.com/tweet_video_thumb/FQLXWFDXwAU-ia3.jpg\n",
      "http://pbs.twimg.com/tweet_video_thumb/FQLNfvGXIAI_QJG.jpg\n",
      "http://pbs.twimg.com/tweet_video_thumb/FQLJRK3XMAUJRLy.jpg\n"
     ]
    },
    {
     "name": "stderr",
     "output_type": "stream",
     "text": [
      "Unexpected parameter: since\n"
     ]
    },
    {
     "name": "stdout",
     "output_type": "stream",
     "text": [
      "-----\n",
      "\n",
      "\n",
      "Author: FePaesLeme\n",
      "Imagens postadas:\n"
     ]
    },
    {
     "name": "stderr",
     "output_type": "stream",
     "text": [
      "Unexpected parameter: since\n"
     ]
    },
    {
     "name": "stdout",
     "output_type": "stream",
     "text": [
      "http://pbs.twimg.com/media/FQLYeC5XsAcyQdn.jpg\n"
     ]
    },
    {
     "name": "stderr",
     "output_type": "stream",
     "text": [
      "Unexpected parameter: since\n"
     ]
    },
    {
     "name": "stdout",
     "output_type": "stream",
     "text": [
      "-----\n",
      "\n",
      "\n",
      "Author: Tatawerneck\n",
      "Imagens postadas:\n"
     ]
    },
    {
     "name": "stderr",
     "output_type": "stream",
     "text": [
      "Unexpected parameter: since\n"
     ]
    },
    {
     "name": "stdout",
     "output_type": "stream",
     "text": [
      "http://pbs.twimg.com/media/FQLQLs-X0AMHFfD.jpg\n",
      "http://pbs.twimg.com/media/FQLQLs-X0AMHFfD.jpg\n",
      "http://pbs.twimg.com/media/FQLQLs-X0AMHFfD.jpg\n",
      "http://pbs.twimg.com/media/FQLQLs-X0AMHFfD.jpg\n"
     ]
    },
    {
     "name": "stderr",
     "output_type": "stream",
     "text": [
      "Unexpected parameter: since\n"
     ]
    },
    {
     "name": "stdout",
     "output_type": "stream",
     "text": [
      "-----\n",
      "\n",
      "\n",
      "Author: FlaviaAleReal\n",
      "Imagens postadas:\n"
     ]
    },
    {
     "name": "stderr",
     "output_type": "stream",
     "text": [
      "Unexpected parameter: since\n"
     ]
    },
    {
     "name": "stdout",
     "output_type": "stream",
     "text": [
      "http://pbs.twimg.com/ext_tw_video_thumb/1513967670240161794/pu/img/9m4o_pohaaKVLvMG.jpg\n",
      "http://pbs.twimg.com/amplify_video_thumb/1513896629245468672/img/mgG2_u7G7kdQgtFZ.jpg\n",
      "http://pbs.twimg.com/amplify_video_thumb/1513896629245468672/img/mgG2_u7G7kdQgtFZ.jpg\n",
      "http://pbs.twimg.com/amplify_video_thumb/1513896629245468672/img/mgG2_u7G7kdQgtFZ.jpg\n",
      "http://pbs.twimg.com/amplify_video_thumb/1513896629245468672/img/mgG2_u7G7kdQgtFZ.jpg\n",
      "http://pbs.twimg.com/media/FQE-WaDWYAgW_o6.jpg\n"
     ]
    },
    {
     "name": "stderr",
     "output_type": "stream",
     "text": [
      "Unexpected parameter: since\n"
     ]
    },
    {
     "name": "stdout",
     "output_type": "stream",
     "text": [
      "-----\n",
      "\n",
      "\n",
      "Author: julianapaes\n",
      "Imagens postadas:\n"
     ]
    },
    {
     "name": "stderr",
     "output_type": "stream",
     "text": [
      "Unexpected parameter: since\n"
     ]
    },
    {
     "name": "stdout",
     "output_type": "stream",
     "text": [
      "http://pbs.twimg.com/media/FQGp9QHX0AU41ce.jpg\n",
      "http://pbs.twimg.com/media/FQGp9QHX0AU41ce.jpg\n",
      "http://pbs.twimg.com/media/FQGp9QHX0AU41ce.jpg\n",
      "http://pbs.twimg.com/media/FQLWtG3WYAIb81k.jpg\n"
     ]
    },
    {
     "name": "stderr",
     "output_type": "stream",
     "text": [
      "Unexpected parameter: since\n"
     ]
    },
    {
     "name": "stdout",
     "output_type": "stream",
     "text": [
      "http://pbs.twimg.com/media/FQGp9QHX0AU41ce.jpg\n",
      "http://pbs.twimg.com/media/FQGp9QHX0AU41ce.jpg\n",
      "-----\n",
      "\n",
      "\n",
      "Author: dedesecco\n",
      "Imagens postadas:\n"
     ]
    },
    {
     "name": "stderr",
     "output_type": "stream",
     "text": [
      "Unexpected parameter: since\n"
     ]
    },
    {
     "name": "stdout",
     "output_type": "stream",
     "text": [
      "http://pbs.twimg.com/media/FQK5ve0WUBExQLg.jpg\n"
     ]
    },
    {
     "name": "stderr",
     "output_type": "stream",
     "text": [
      "Unexpected parameter: since\n"
     ]
    },
    {
     "name": "stdout",
     "output_type": "stream",
     "text": [
      "-----\n",
      "\n",
      "\n",
      "Author: SabrinaSato\n",
      "Imagens postadas:\n"
     ]
    },
    {
     "name": "stderr",
     "output_type": "stream",
     "text": [
      "Unexpected parameter: since\n",
      "Unexpected parameter: since\n"
     ]
    },
    {
     "name": "stdout",
     "output_type": "stream",
     "text": [
      "-----\n",
      "\n",
      "\n",
      "Author: ahickmann\n",
      "Imagens postadas:\n"
     ]
    },
    {
     "name": "stderr",
     "output_type": "stream",
     "text": [
      "Unexpected parameter: since\n"
     ]
    },
    {
     "name": "stdout",
     "output_type": "stream",
     "text": [
      "http://pbs.twimg.com/media/FQKUUCsX0AUZIBa.jpg\n"
     ]
    },
    {
     "name": "stderr",
     "output_type": "stream",
     "text": [
      "Unexpected parameter: since\n"
     ]
    },
    {
     "name": "stdout",
     "output_type": "stream",
     "text": [
      "-----\n",
      "\n",
      "\n",
      "Author: gusttavo_lima\n",
      "Imagens postadas:\n"
     ]
    },
    {
     "name": "stderr",
     "output_type": "stream",
     "text": [
      "Unexpected parameter: since\n"
     ]
    },
    {
     "name": "stdout",
     "output_type": "stream",
     "text": [
      "http://pbs.twimg.com/amplify_video_thumb/1514009510612021249/img/glQ6kA0w79-IRgvg.jpg\n"
     ]
    },
    {
     "name": "stderr",
     "output_type": "stream",
     "text": [
      "Unexpected parameter: since\n"
     ]
    },
    {
     "name": "stdout",
     "output_type": "stream",
     "text": [
      "-----\n",
      "\n",
      "\n",
      "Author: Anitta\n",
      "Imagens postadas:\n"
     ]
    },
    {
     "name": "stderr",
     "output_type": "stream",
     "text": [
      "Unexpected parameter: since\n"
     ]
    },
    {
     "name": "stdout",
     "output_type": "stream",
     "text": [
      "http://pbs.twimg.com/media/FQKbmsIXIAcurMD.jpg\n",
      "http://pbs.twimg.com/ext_tw_video_thumb/1514012130827247616/pu/img/VLR_BCeiDh2FkAmV.jpg\n",
      "http://pbs.twimg.com/media/FQLaHfUWQAE8dlg.jpg\n",
      "http://pbs.twimg.com/media/FQLZmk0XsAAWiZE.jpg\n",
      "http://pbs.twimg.com/media/FQLaHY1XEAUMErC.jpg\n"
     ]
    },
    {
     "name": "stderr",
     "output_type": "stream",
     "text": [
      "Unexpected parameter: since\n"
     ]
    },
    {
     "name": "stdout",
     "output_type": "stream",
     "text": [
      "http://pbs.twimg.com/ext_tw_video_thumb/1513899510661013507/pu/img/T5w2AjVRK8SStTkS.jpg\n",
      "-----\n",
      "\n",
      "\n",
      "Author: CarolCastroReal\n",
      "Imagens postadas:\n"
     ]
    },
    {
     "name": "stderr",
     "output_type": "stream",
     "text": [
      "Unexpected parameter: since\n",
      "Unexpected parameter: since\n"
     ]
    },
    {
     "name": "stdout",
     "output_type": "stream",
     "text": [
      "-----\n",
      "\n",
      "\n",
      "Author: gio_antonelli\n",
      "Imagens postadas:\n"
     ]
    },
    {
     "name": "stderr",
     "output_type": "stream",
     "text": [
      "Unexpected parameter: since\n"
     ]
    },
    {
     "name": "stdout",
     "output_type": "stream",
     "text": [
      "http://pbs.twimg.com/media/FPrEYc5XIAAKfhS.jpg\n",
      "http://pbs.twimg.com/ext_tw_video_thumb/1511806650323279889/pu/img/-tFkdSMgEG7KF7DX.jpg\n"
     ]
    },
    {
     "name": "stderr",
     "output_type": "stream",
     "text": [
      "Unexpected parameter: since\n"
     ]
    },
    {
     "name": "stdout",
     "output_type": "stream",
     "text": [
      "http://pbs.twimg.com/media/FQJ9R8ZXMAgzekJ.jpg\n",
      "http://pbs.twimg.com/media/FQGKiZCXsAU1iFx.jpg\n",
      "-----\n",
      "\n",
      "\n",
      "Author: maisa\n",
      "Imagens postadas:\n"
     ]
    },
    {
     "name": "stderr",
     "output_type": "stream",
     "text": [
      "Unexpected parameter: since\n"
     ]
    },
    {
     "name": "stdout",
     "output_type": "stream",
     "text": [
      "http://pbs.twimg.com/media/FQKOax7XoAUwqxM.jpg\n",
      "http://pbs.twimg.com/media/FQKOax7XoAUwqxM.jpg\n",
      "http://pbs.twimg.com/media/FQKOax7XoAUwqxM.jpg\n",
      "http://pbs.twimg.com/media/FQKOax7XoAUwqxM.jpg\n",
      "http://pbs.twimg.com/media/FQKOax7XoAUwqxM.jpg\n",
      "http://pbs.twimg.com/media/FQKOax7XoAUwqxM.jpg\n",
      "http://pbs.twimg.com/media/FQKOax7XoAUwqxM.jpg\n"
     ]
    },
    {
     "name": "stderr",
     "output_type": "stream",
     "text": [
      "Unexpected parameter: since\n"
     ]
    },
    {
     "name": "stdout",
     "output_type": "stream",
     "text": [
      "-----\n",
      "\n",
      "\n",
      "Author: cleooficial\n",
      "Imagens postadas:\n"
     ]
    },
    {
     "name": "stderr",
     "output_type": "stream",
     "text": [
      "Unexpected parameter: since\n",
      "Unexpected parameter: since\n"
     ]
    },
    {
     "name": "stdout",
     "output_type": "stream",
     "text": [
      "-----\n",
      "\n",
      "\n",
      "Author: gewbank\n",
      "Imagens postadas:\n"
     ]
    },
    {
     "name": "stderr",
     "output_type": "stream",
     "text": [
      "Unexpected parameter: since\n"
     ]
    },
    {
     "name": "stdout",
     "output_type": "stream",
     "text": [
      "http://pbs.twimg.com/media/FP6yX44XMAQgOaK.jpg\n"
     ]
    },
    {
     "name": "stderr",
     "output_type": "stream",
     "text": [
      "Unexpected parameter: since\n"
     ]
    },
    {
     "name": "stdout",
     "output_type": "stream",
     "text": [
      "-----\n",
      "\n",
      "\n",
      "Author: taisdeverdade\n",
      "Imagens postadas:\n"
     ]
    },
    {
     "name": "stderr",
     "output_type": "stream",
     "text": [
      "Unexpected parameter: since\n"
     ]
    },
    {
     "name": "stdout",
     "output_type": "stream",
     "text": [
      "http://pbs.twimg.com/ext_tw_video_thumb/1514011135846105094/pu/img/NOHXLd11yRv9bgZD.jpg\n",
      "http://pbs.twimg.com/media/FQLWi4bXwAQHxD3.jpg\n"
     ]
    },
    {
     "name": "stderr",
     "output_type": "stream",
     "text": [
      "Unexpected parameter: since\n"
     ]
    },
    {
     "name": "stdout",
     "output_type": "stream",
     "text": [
      "http://pbs.twimg.com/ext_tw_video_thumb/1514006500104155136/pu/img/0HNd7urPSgfgeJvs.jpg\n",
      "-----\n",
      "\n",
      "\n",
      "Author: otaviano\n",
      "Imagens postadas:\n"
     ]
    },
    {
     "name": "stderr",
     "output_type": "stream",
     "text": [
      "Unexpected parameter: since\n"
     ]
    },
    {
     "name": "stdout",
     "output_type": "stream",
     "text": [
      "http://pbs.twimg.com/amplify_video_thumb/1513891268505518099/img/3JVpiPfxEOdhCeNp.jpg\n",
      "http://pbs.twimg.com/ext_tw_video_thumb/1513717767383437316/pu/img/tLEo0Bk1VElrnmGe.jpg\n",
      "http://pbs.twimg.com/ext_tw_video_thumb/1513717767383437316/pu/img/tLEo0Bk1VElrnmGe.jpg\n"
     ]
    },
    {
     "name": "stderr",
     "output_type": "stream",
     "text": [
      "Unexpected parameter: since\n"
     ]
    },
    {
     "name": "stdout",
     "output_type": "stream",
     "text": [
      "http://pbs.twimg.com/ext_tw_video_thumb/1513983503800614913/pu/img/IiXWGR24vR581eoJ.jpg\n",
      "-----\n",
      "\n",
      "\n",
      "Author: bernardipaloma\n",
      "Imagens postadas:\n"
     ]
    },
    {
     "name": "stderr",
     "output_type": "stream",
     "text": [
      "Unexpected parameter: since\n"
     ]
    },
    {
     "name": "stdout",
     "output_type": "stream",
     "text": [
      "http://pbs.twimg.com/media/FQG3SygWUAE0tQS.jpg\n",
      "http://pbs.twimg.com/media/FQJ9iSwXoAkCQUV.jpg\n",
      "http://pbs.twimg.com/media/FQG3SygWUAE0tQS.jpg\n",
      "http://pbs.twimg.com/media/FQJ9iSwXoAkCQUV.jpg\n",
      "http://pbs.twimg.com/media/FQJ9iSwXoAkCQUV.jpg\n",
      "http://pbs.twimg.com/media/FQJ9iSwXoAkCQUV.jpg\n"
     ]
    },
    {
     "name": "stderr",
     "output_type": "stream",
     "text": [
      "Unexpected parameter: since\n"
     ]
    },
    {
     "name": "stdout",
     "output_type": "stream",
     "text": [
      "-----\n",
      "\n",
      "\n",
      "Author: IngridGuimaraes\n",
      "Imagens postadas:\n"
     ]
    },
    {
     "name": "stderr",
     "output_type": "stream",
     "text": [
      "Unexpected parameter: since\n"
     ]
    },
    {
     "name": "stdout",
     "output_type": "stream",
     "text": [
      "http://pbs.twimg.com/media/FQLaKc6X0AIo2RH.jpg\n",
      "http://pbs.twimg.com/media/FQKK8yYX0AEFhue.jpg\n",
      "http://pbs.twimg.com/media/FQLaCNkX0AEfRAu.jpg\n"
     ]
    },
    {
     "name": "stderr",
     "output_type": "stream",
     "text": [
      "Unexpected parameter: since\n"
     ]
    },
    {
     "name": "stdout",
     "output_type": "stream",
     "text": [
      "-----\n",
      "\n",
      "\n",
      "Author: olazaroramos\n",
      "Imagens postadas:\n"
     ]
    },
    {
     "name": "stderr",
     "output_type": "stream",
     "text": [
      "Unexpected parameter: since\n"
     ]
    },
    {
     "name": "stdout",
     "output_type": "stream",
     "text": [
      "http://pbs.twimg.com/media/FQLaKc6X0AIo2RH.jpg\n",
      "http://pbs.twimg.com/ext_tw_video_thumb/1513694279360729088/pu/img/uUn55qaQfopH86Oe.jpg\n",
      "http://pbs.twimg.com/media/FQKK8yYX0AEFhue.jpg\n",
      "http://pbs.twimg.com/media/FQLaCNkX0AEfRAu.jpg\n"
     ]
    },
    {
     "name": "stderr",
     "output_type": "stream",
     "text": [
      "Unexpected parameter: since\n"
     ]
    },
    {
     "name": "stdout",
     "output_type": "stream",
     "text": [
      "-----\n",
      "\n",
      "\n",
      "Author: GalisteuOficial\n",
      "Imagens postadas:\n"
     ]
    },
    {
     "name": "stderr",
     "output_type": "stream",
     "text": [
      "Unexpected parameter: since\n",
      "Unexpected parameter: since\n"
     ]
    },
    {
     "name": "stdout",
     "output_type": "stream",
     "text": [
      "-----\n",
      "\n",
      "\n",
      "Author: debranascimento\n",
      "Imagens postadas:\n"
     ]
    },
    {
     "name": "stderr",
     "output_type": "stream",
     "text": [
      "Unexpected parameter: since\n",
      "Unexpected parameter: since\n"
     ]
    },
    {
     "name": "stdout",
     "output_type": "stream",
     "text": [
      "-----\n",
      "\n",
      "\n",
      "Author: FioMattheis\n",
      "Imagens postadas:\n"
     ]
    },
    {
     "name": "stderr",
     "output_type": "stream",
     "text": [
      "Unexpected parameter: since\n",
      "Unexpected parameter: since\n"
     ]
    },
    {
     "name": "stdout",
     "output_type": "stream",
     "text": [
      "-----\n",
      "\n",
      "\n",
      "Author: moalfradique\n",
      "Imagens postadas:\n"
     ]
    },
    {
     "name": "stderr",
     "output_type": "stream",
     "text": [
      "Unexpected parameter: since\n"
     ]
    },
    {
     "name": "stdout",
     "output_type": "stream",
     "text": [
      "http://pbs.twimg.com/ext_tw_video_thumb/1511363786673999879/pu/img/LPJZ5LatLuce-8J3.jpg\n",
      "http://pbs.twimg.com/ext_tw_video_thumb/1511359957576396807/pu/img/9toq2gejDm54zmYd.jpg\n"
     ]
    },
    {
     "name": "stderr",
     "output_type": "stream",
     "text": [
      "Unexpected parameter: since\n"
     ]
    },
    {
     "name": "stdout",
     "output_type": "stream",
     "text": [
      "-----\n",
      "\n",
      "\n",
      "Author: Nandacostareal\n",
      "Imagens postadas:\n"
     ]
    },
    {
     "name": "stderr",
     "output_type": "stream",
     "text": [
      "Unexpected parameter: since\n"
     ]
    },
    {
     "name": "stdout",
     "output_type": "stream",
     "text": [
      "http://pbs.twimg.com/ext_tw_video_thumb/1511331074483408905/pu/img/ewwZH_ru-Hhaa5Ap.jpg\n",
      "-----\n",
      "\n",
      "\n"
     ]
    }
   ],
   "source": [
    "for famoso in famosos:\n",
    "    tweets = tw.Cursor(api.search_tweets, q = famoso, since = '2022-01-01').items(20)\n",
    "    print(\"Author:\", famoso)\n",
    "    print(\"Imagens postadas:\")\n",
    "    \n",
    "    for tweet in tweets:\n",
    "        if 'media' in tweet.entities:\n",
    "            print(tweet.entities['media'][0]['media_url'])\n",
    "    print('-----')\n",
    "    print('\\n')"
   ]
  },
  {
   "cell_type": "code",
   "execution_count": null,
   "id": "801ada71",
   "metadata": {},
   "outputs": [],
   "source": []
  }
 ],
 "metadata": {
  "kernelspec": {
   "display_name": "Python 3 (ipykernel)",
   "language": "python",
   "name": "python3"
  },
  "language_info": {
   "codemirror_mode": {
    "name": "ipython",
    "version": 3
   },
   "file_extension": ".py",
   "mimetype": "text/x-python",
   "name": "python",
   "nbconvert_exporter": "python",
   "pygments_lexer": "ipython3",
   "version": "3.9.7"
  }
 },
 "nbformat": 4,
 "nbformat_minor": 5
}
