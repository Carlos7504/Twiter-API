{
 "cells": [
  {
   "cell_type": "code",
   "execution_count": 130,
   "id": "21cec6d5",
   "metadata": {},
   "outputs": [],
   "source": [
    "import tweepy as tw"
   ]
  },
  {
   "cell_type": "code",
   "execution_count": 131,
   "id": "69ccf014",
   "metadata": {},
   "outputs": [],
   "source": [
    "api_key = \"xxx\"\n",
    "api_key_secret = \"xxx\"\n",
    "token = \"xxx\"\n",
    "token_secret = \"xxx\""
   ]
  },
  {
   "cell_type": "code",
   "execution_count": 132,
   "id": "26b2f0b8",
   "metadata": {},
   "outputs": [],
   "source": [
    "auth = tw.OAuthHandler(api_key, api_key_secret)"
   ]
  },
  {
   "cell_type": "code",
   "execution_count": 133,
   "id": "d3abce0f",
   "metadata": {},
   "outputs": [],
   "source": [
    "auth.set_access_token(token, token_secret)"
   ]
  },
  {
   "cell_type": "code",
   "execution_count": 134,
   "id": "05e90a68",
   "metadata": {},
   "outputs": [],
   "source": [
    "api = tw.API(auth)"
   ]
  },
  {
   "cell_type": "code",
   "execution_count": 138,
   "id": "f65081f0",
   "metadata": {},
   "outputs": [],
   "source": [
    "famosos = ['cauareymond','aguiarthur','ivetesangalo','ClaudiaLeitte','neymarjr','BruMarquezine','mariruybarbosa',\n",
    "'FePaesLeme','Tatawerneck','FlaviaAleReal','julianapaes','dedesecco','SabrinaSato', 'ahickmann','gusttavo_lima','Anitta',\n",
    "'CarolCastroReal','gio_antonelli','maisa','gewbank','taisdeverdade','otaviano','bernardipaloma',\n",
    "'IngridGuimaraes','olazaroramos','GalisteuOficial','debranascimento','FioMattheis','moalfradique','Nandacostareal']"
   ]
  },
  {
   "cell_type": "code",
   "execution_count": 139,
   "id": "8840b25c",
   "metadata": {},
   "outputs": [
    {
     "name": "stderr",
     "output_type": "stream",
     "text": [
      "Unexpected parameter: since\n"
     ]
    },
    {
     "name": "stdout",
     "output_type": "stream",
     "text": [
      "Author: cauareymond\n",
      "Imagens postadas:\n"
     ]
    },
    {
     "name": "stderr",
     "output_type": "stream",
     "text": [
      "Unexpected parameter: since\n"
     ]
    },
    {
     "name": "stdout",
     "output_type": "stream",
     "text": [
      "http://pbs.twimg.com/amplify_video_thumb/1514599685788356608/img/4QGFAlRihoTPzVPJ.jpg\n",
      "http://pbs.twimg.com/media/FQTyV-RUYAwpV0j.jpg\n",
      "http://pbs.twimg.com/media/FQTxTftUcAwyhMO.jpg\n",
      "http://pbs.twimg.com/amplify_video_thumb/1514599685788356608/img/4QGFAlRihoTPzVPJ.jpg\n"
     ]
    },
    {
     "name": "stderr",
     "output_type": "stream",
     "text": [
      "Unexpected parameter: since\n"
     ]
    },
    {
     "name": "stdout",
     "output_type": "stream",
     "text": [
      "http://pbs.twimg.com/media/FQTvcbHUcAUBRFg.jpg\n",
      "http://pbs.twimg.com/media/FQLeljlXoAgr1xa.jpg\n",
      "-----\n",
      "\n",
      "\n",
      "Author: aguiarthur\n",
      "Imagens postadas:\n"
     ]
    },
    {
     "name": "stderr",
     "output_type": "stream",
     "text": [
      "Unexpected parameter: since\n"
     ]
    },
    {
     "name": "stdout",
     "output_type": "stream",
     "text": [
      "http://pbs.twimg.com/ext_tw_video_thumb/1514629296819777541/pu/img/oxuzohfsBhc92Pc9.jpg\n",
      "http://pbs.twimg.com/ext_tw_video_thumb/1514629296819777541/pu/img/oxuzohfsBhc92Pc9.jpg\n",
      "http://pbs.twimg.com/ext_tw_video_thumb/1514629296819777541/pu/img/oxuzohfsBhc92Pc9.jpg\n",
      "http://pbs.twimg.com/ext_tw_video_thumb/1514629296819777541/pu/img/oxuzohfsBhc92Pc9.jpg\n",
      "http://pbs.twimg.com/ext_tw_video_thumb/1514495133315645442/pu/img/4Ky-GGy3CAdC2nt6.jpg\n",
      "http://pbs.twimg.com/ext_tw_video_thumb/1514629296819777541/pu/img/oxuzohfsBhc92Pc9.jpg\n"
     ]
    },
    {
     "name": "stderr",
     "output_type": "stream",
     "text": [
      "Unexpected parameter: since\n"
     ]
    },
    {
     "name": "stdout",
     "output_type": "stream",
     "text": [
      "http://pbs.twimg.com/ext_tw_video_thumb/1514629296819777541/pu/img/oxuzohfsBhc92Pc9.jpg\n",
      "http://pbs.twimg.com/ext_tw_video_thumb/1514497869205622784/pu/img/K7b2-6TsHJG4D19Q.jpg\n",
      "-----\n",
      "\n",
      "\n",
      "Author: ivetesangalo\n",
      "Imagens postadas:\n"
     ]
    },
    {
     "name": "stderr",
     "output_type": "stream",
     "text": [
      "Unexpected parameter: since\n"
     ]
    },
    {
     "name": "stdout",
     "output_type": "stream",
     "text": [
      "http://pbs.twimg.com/ext_tw_video_thumb/1514354670990409767/pu/img/MaohV6R3ze75pKmy.jpg\n"
     ]
    },
    {
     "name": "stderr",
     "output_type": "stream",
     "text": [
      "Unexpected parameter: since\n"
     ]
    },
    {
     "name": "stdout",
     "output_type": "stream",
     "text": [
      "http://pbs.twimg.com/ext_tw_video_thumb/1514345225703112713/pu/img/zYAUt3ELLOZYoJlE.jpg\n",
      "-----\n",
      "\n",
      "\n",
      "Author: ClaudiaLeitte\n",
      "Imagens postadas:\n"
     ]
    },
    {
     "name": "stderr",
     "output_type": "stream",
     "text": [
      "Unexpected parameter: since\n"
     ]
    },
    {
     "name": "stdout",
     "output_type": "stream",
     "text": [
      "http://pbs.twimg.com/media/FQPndAvXEAs-WIP.jpg\n",
      "http://pbs.twimg.com/media/FQPEEBkXIAsBLj9.jpg\n",
      "http://pbs.twimg.com/ext_tw_video_thumb/830481655550902272/pu/img/Xhk34gT6mlIJfW9a.jpg\n",
      "http://pbs.twimg.com/media/FQPndAvXEAs-WIP.jpg\n"
     ]
    },
    {
     "name": "stderr",
     "output_type": "stream",
     "text": [
      "Unexpected parameter: since\n"
     ]
    },
    {
     "name": "stdout",
     "output_type": "stream",
     "text": [
      "http://pbs.twimg.com/ext_tw_video_thumb/1002906879872421888/pu/img/fyBYzO3LJXhKuS6S.jpg\n",
      "-----\n",
      "\n",
      "\n",
      "Author: neymarjr\n",
      "Imagens postadas:\n"
     ]
    },
    {
     "name": "stderr",
     "output_type": "stream",
     "text": [
      "Unexpected parameter: since\n"
     ]
    },
    {
     "name": "stdout",
     "output_type": "stream",
     "text": [
      "http://pbs.twimg.com/media/FQUMV4zXEAgfEKi.jpg\n"
     ]
    },
    {
     "name": "stderr",
     "output_type": "stream",
     "text": [
      "Unexpected parameter: since\n"
     ]
    },
    {
     "name": "stdout",
     "output_type": "stream",
     "text": [
      "-----\n",
      "\n",
      "\n",
      "Author: BruMarquezine\n",
      "Imagens postadas:\n"
     ]
    },
    {
     "name": "stderr",
     "output_type": "stream",
     "text": [
      "Unexpected parameter: since\n"
     ]
    },
    {
     "name": "stdout",
     "output_type": "stream",
     "text": [
      "http://pbs.twimg.com/media/FQUGLkWWUAUKcAr.jpg\n",
      "http://pbs.twimg.com/media/FQUGLkWWUAUKcAr.jpg\n",
      "http://pbs.twimg.com/media/FQT-ex1UYAYgR_F.jpg\n",
      "http://pbs.twimg.com/media/FQT9qJhVcBsj6TS.jpg\n",
      "http://pbs.twimg.com/media/FQUGLkWWUAUKcAr.jpg\n",
      "http://pbs.twimg.com/media/FQUGLkWWUAUKcAr.jpg\n"
     ]
    },
    {
     "name": "stderr",
     "output_type": "stream",
     "text": [
      "Unexpected parameter: since\n"
     ]
    },
    {
     "name": "stdout",
     "output_type": "stream",
     "text": [
      "http://pbs.twimg.com/media/FQUGLkWWUAUKcAr.jpg\n",
      "http://pbs.twimg.com/media/FQUGLkWWUAUKcAr.jpg\n",
      "http://pbs.twimg.com/media/FQUGLkWWUAUKcAr.jpg\n",
      "-----\n",
      "\n",
      "\n",
      "Author: mariruybarbosa\n",
      "Imagens postadas:\n"
     ]
    },
    {
     "name": "stderr",
     "output_type": "stream",
     "text": [
      "Unexpected parameter: since\n"
     ]
    },
    {
     "name": "stdout",
     "output_type": "stream",
     "text": [
      "http://pbs.twimg.com/media/FQPTCSjWYAE7AI3.jpg\n"
     ]
    },
    {
     "name": "stderr",
     "output_type": "stream",
     "text": [
      "Unexpected parameter: since\n"
     ]
    },
    {
     "name": "stdout",
     "output_type": "stream",
     "text": [
      "-----\n",
      "\n",
      "\n",
      "Author: FePaesLeme\n",
      "Imagens postadas:\n"
     ]
    },
    {
     "name": "stderr",
     "output_type": "stream",
     "text": [
      "Unexpected parameter: since\n"
     ]
    },
    {
     "name": "stdout",
     "output_type": "stream",
     "text": [
      "http://pbs.twimg.com/ext_tw_video_thumb/1514452284113141765/pu/img/6yINCo4P_j_BIEgo.jpg\n",
      "http://pbs.twimg.com/tweet_video_thumb/FQPU5mRWQAQwIbd.jpg\n"
     ]
    },
    {
     "name": "stderr",
     "output_type": "stream",
     "text": [
      "Unexpected parameter: since\n"
     ]
    },
    {
     "name": "stdout",
     "output_type": "stream",
     "text": [
      "-----\n",
      "\n",
      "\n",
      "Author: Tatawerneck\n",
      "Imagens postadas:\n"
     ]
    },
    {
     "name": "stderr",
     "output_type": "stream",
     "text": [
      "Unexpected parameter: since\n",
      "Unexpected parameter: since\n"
     ]
    },
    {
     "name": "stdout",
     "output_type": "stream",
     "text": [
      "http://pbs.twimg.com/media/FQT18vDVEBALUk6.jpg\n",
      "-----\n",
      "\n",
      "\n",
      "Author: FlaviaAleReal\n",
      "Imagens postadas:\n"
     ]
    },
    {
     "name": "stderr",
     "output_type": "stream",
     "text": [
      "Unexpected parameter: since\n"
     ]
    },
    {
     "name": "stdout",
     "output_type": "stream",
     "text": [
      "http://pbs.twimg.com/media/FQPfXuhX0AUaeIb.jpg\n",
      "http://pbs.twimg.com/media/FQPfXuhX0AUaeIb.jpg\n",
      "http://pbs.twimg.com/media/FQPfXuhX0AUaeIb.jpg\n",
      "http://pbs.twimg.com/media/FQRLF4zWQAUyRCt.jpg\n",
      "http://pbs.twimg.com/media/FQPfXuhX0AUaeIb.jpg\n"
     ]
    },
    {
     "name": "stderr",
     "output_type": "stream",
     "text": [
      "Unexpected parameter: since\n"
     ]
    },
    {
     "name": "stdout",
     "output_type": "stream",
     "text": [
      "http://pbs.twimg.com/media/FQPfXuhX0AUaeIb.jpg\n",
      "-----\n",
      "\n",
      "\n",
      "Author: julianapaes\n",
      "Imagens postadas:\n"
     ]
    },
    {
     "name": "stderr",
     "output_type": "stream",
     "text": [
      "Unexpected parameter: since\n"
     ]
    },
    {
     "name": "stdout",
     "output_type": "stream",
     "text": [
      "http://pbs.twimg.com/ext_tw_video_thumb/1514406394627342341/pu/img/idsGsdaNb3JniQMY.jpg\n",
      "http://pbs.twimg.com/ext_tw_video_thumb/1514354647716319244/pu/img/a6dhmg69q6ATwQXS.jpg\n",
      "http://pbs.twimg.com/media/FQUMY8eWYAEDWfE.jpg\n",
      "http://pbs.twimg.com/media/FQUMU1ZXEAc87TX.jpg\n",
      "http://pbs.twimg.com/media/FQUMCz7XIAUuh1i.jpg\n",
      "http://pbs.twimg.com/media/FQUMCz7XIAUuh1i.jpg\n"
     ]
    },
    {
     "name": "stderr",
     "output_type": "stream",
     "text": [
      "Unexpected parameter: since\n"
     ]
    },
    {
     "name": "stdout",
     "output_type": "stream",
     "text": [
      "-----\n",
      "\n",
      "\n",
      "Author: dedesecco\n",
      "Imagens postadas:\n"
     ]
    },
    {
     "name": "stderr",
     "output_type": "stream",
     "text": [
      "Unexpected parameter: since\n",
      "Unexpected parameter: since\n"
     ]
    },
    {
     "name": "stdout",
     "output_type": "stream",
     "text": [
      "http://pbs.twimg.com/ext_tw_video_thumb/1513605697266671639/pu/img/knNOjWYHgh6lodgc.jpg\n",
      "http://pbs.twimg.com/media/FQPGCXlXoAMpurN.jpg\n",
      "http://pbs.twimg.com/ext_tw_video_thumb/1513605697266671639/pu/img/knNOjWYHgh6lodgc.jpg\n",
      "-----\n",
      "\n",
      "\n",
      "Author: SabrinaSato\n",
      "Imagens postadas:\n"
     ]
    },
    {
     "name": "stderr",
     "output_type": "stream",
     "text": [
      "Unexpected parameter: since\n"
     ]
    },
    {
     "name": "stdout",
     "output_type": "stream",
     "text": [
      "http://pbs.twimg.com/media/FQRpDgUWQAIJypU.jpg\n",
      "http://pbs.twimg.com/ext_tw_video_thumb/1514553448775270400/pu/img/sMDrxIdXf7D7Tw3e.jpg\n"
     ]
    },
    {
     "name": "stderr",
     "output_type": "stream",
     "text": [
      "Unexpected parameter: since\n"
     ]
    },
    {
     "name": "stdout",
     "output_type": "stream",
     "text": [
      "http://pbs.twimg.com/media/FQRpDgUWQAIJypU.jpg\n",
      "http://pbs.twimg.com/media/FQRpDgUWQAIJypU.jpg\n",
      "http://pbs.twimg.com/media/FQRpDgUWQAIJypU.jpg\n",
      "-----\n",
      "\n",
      "\n",
      "Author: ahickmann\n",
      "Imagens postadas:\n"
     ]
    },
    {
     "name": "stderr",
     "output_type": "stream",
     "text": [
      "Unexpected parameter: since\n"
     ]
    },
    {
     "name": "stdout",
     "output_type": "stream",
     "text": [
      "http://pbs.twimg.com/media/FQTlfQfXEAcsPNZ.jpg\n",
      "http://pbs.twimg.com/media/FQTlSJ1WUAQJ6eK.jpg\n",
      "http://pbs.twimg.com/media/FQTkxmEWUAEeMR7.jpg\n"
     ]
    },
    {
     "name": "stderr",
     "output_type": "stream",
     "text": [
      "Unexpected parameter: since\n"
     ]
    },
    {
     "name": "stdout",
     "output_type": "stream",
     "text": [
      "-----\n",
      "\n",
      "\n",
      "Author: gusttavo_lima\n",
      "Imagens postadas:\n"
     ]
    },
    {
     "name": "stderr",
     "output_type": "stream",
     "text": [
      "Unexpected parameter: since\n"
     ]
    },
    {
     "name": "stdout",
     "output_type": "stream",
     "text": [
      "http://pbs.twimg.com/media/FQQgK2dXEAcMHgv.jpg\n"
     ]
    },
    {
     "name": "stderr",
     "output_type": "stream",
     "text": [
      "Unexpected parameter: since\n"
     ]
    },
    {
     "name": "stdout",
     "output_type": "stream",
     "text": [
      "-----\n",
      "\n",
      "\n",
      "Author: Anitta\n",
      "Imagens postadas:\n"
     ]
    },
    {
     "name": "stderr",
     "output_type": "stream",
     "text": [
      "Unexpected parameter: since\n"
     ]
    },
    {
     "name": "stdout",
     "output_type": "stream",
     "text": [
      "http://pbs.twimg.com/media/FQTBzgzXIAAmOWx.jpg\n",
      "http://pbs.twimg.com/ext_tw_video_thumb/1514328817938149385/pu/img/zZa1ZVKpQKmQfNDZ.jpg\n",
      "http://pbs.twimg.com/media/FQTagyuXMAM5Ve-.jpg\n",
      "http://pbs.twimg.com/media/FQTEVDKXMAYrlcf.jpg\n"
     ]
    },
    {
     "name": "stderr",
     "output_type": "stream",
     "text": [
      "Unexpected parameter: since\n"
     ]
    },
    {
     "name": "stdout",
     "output_type": "stream",
     "text": [
      "http://pbs.twimg.com/media/FQKzfxDXIAcDXEZ.jpg\n",
      "-----\n",
      "\n",
      "\n",
      "Author: CarolCastroReal\n",
      "Imagens postadas:\n"
     ]
    },
    {
     "name": "stderr",
     "output_type": "stream",
     "text": [
      "Unexpected parameter: since\n",
      "Unexpected parameter: since\n"
     ]
    },
    {
     "name": "stdout",
     "output_type": "stream",
     "text": [
      "-----\n",
      "\n",
      "\n",
      "Author: gio_antonelli\n",
      "Imagens postadas:\n"
     ]
    },
    {
     "name": "stderr",
     "output_type": "stream",
     "text": [
      "Unexpected parameter: since\n"
     ]
    },
    {
     "name": "stdout",
     "output_type": "stream",
     "text": [
      "http://pbs.twimg.com/media/FQGKiZCXsAU1iFx.jpg\n",
      "http://pbs.twimg.com/media/FQGKiZCXsAU1iFx.jpg\n"
     ]
    },
    {
     "name": "stderr",
     "output_type": "stream",
     "text": [
      "Unexpected parameter: since\n"
     ]
    },
    {
     "name": "stdout",
     "output_type": "stream",
     "text": [
      "http://pbs.twimg.com/tweet_video_thumb/FQQZmqQXwAs0tqD.jpg\n",
      "http://pbs.twimg.com/ext_tw_video_thumb/1281427972478636032/pu/img/ACUCdcWAxIBL5gFP.jpg\n",
      "-----\n",
      "\n",
      "\n",
      "Author: maisa\n",
      "Imagens postadas:\n"
     ]
    },
    {
     "name": "stderr",
     "output_type": "stream",
     "text": [
      "Unexpected parameter: since\n"
     ]
    },
    {
     "name": "stdout",
     "output_type": "stream",
     "text": [
      "http://pbs.twimg.com/media/FQPpXK4XEAsA0tZ.jpg\n"
     ]
    },
    {
     "name": "stderr",
     "output_type": "stream",
     "text": [
      "Unexpected parameter: since\n"
     ]
    },
    {
     "name": "stdout",
     "output_type": "stream",
     "text": [
      "-----\n",
      "\n",
      "\n",
      "Author: gewbank\n",
      "Imagens postadas:\n"
     ]
    },
    {
     "name": "stderr",
     "output_type": "stream",
     "text": [
      "Unexpected parameter: since\n"
     ]
    },
    {
     "name": "stdout",
     "output_type": "stream",
     "text": [
      "http://pbs.twimg.com/media/FP6yX44XMAQgOaK.jpg\n"
     ]
    },
    {
     "name": "stderr",
     "output_type": "stream",
     "text": [
      "Unexpected parameter: since\n"
     ]
    },
    {
     "name": "stdout",
     "output_type": "stream",
     "text": [
      "-----\n",
      "\n",
      "\n",
      "Author: taisdeverdade\n",
      "Imagens postadas:\n"
     ]
    },
    {
     "name": "stderr",
     "output_type": "stream",
     "text": [
      "Unexpected parameter: since\n"
     ]
    },
    {
     "name": "stdout",
     "output_type": "stream",
     "text": [
      "http://pbs.twimg.com/media/FQULnbjXwAg15YM.jpg\n",
      "http://pbs.twimg.com/media/FQPYrSlWYAIJEgg.jpg\n"
     ]
    },
    {
     "name": "stderr",
     "output_type": "stream",
     "text": [
      "Unexpected parameter: since\n"
     ]
    },
    {
     "name": "stdout",
     "output_type": "stream",
     "text": [
      "http://pbs.twimg.com/media/FQPvQgDXoAsRODk.jpg\n",
      "-----\n",
      "\n",
      "\n",
      "Author: otaviano\n",
      "Imagens postadas:\n"
     ]
    },
    {
     "name": "stderr",
     "output_type": "stream",
     "text": [
      "Unexpected parameter: since\n"
     ]
    },
    {
     "name": "stdout",
     "output_type": "stream",
     "text": [
      "http://pbs.twimg.com/ext_tw_video_thumb/1514624288116117504/pu/img/uBGuiI0rzUp7ZlJJ.jpg\n",
      "http://pbs.twimg.com/ext_tw_video_thumb/1514624288116117504/pu/img/uBGuiI0rzUp7ZlJJ.jpg\n",
      "http://pbs.twimg.com/media/FQJkeoYXoBcsYDb.jpg\n"
     ]
    },
    {
     "name": "stderr",
     "output_type": "stream",
     "text": [
      "Unexpected parameter: since\n"
     ]
    },
    {
     "name": "stdout",
     "output_type": "stream",
     "text": [
      "http://pbs.twimg.com/media/FQTfSrWVEAEgmV_.jpg\n",
      "-----\n",
      "\n",
      "\n",
      "Author: bernardipaloma\n",
      "Imagens postadas:\n"
     ]
    },
    {
     "name": "stderr",
     "output_type": "stream",
     "text": [
      "Unexpected parameter: since\n"
     ]
    },
    {
     "name": "stdout",
     "output_type": "stream",
     "text": [
      "http://pbs.twimg.com/media/FQTpH2TXsAoEiCe.jpg\n",
      "http://pbs.twimg.com/media/FQQGHqyXoBE0rMj.jpg\n",
      "http://pbs.twimg.com/media/FQQGHqyXoBE0rMj.jpg\n",
      "http://pbs.twimg.com/media/FQQGHqyXoBE0rMj.jpg\n"
     ]
    },
    {
     "name": "stderr",
     "output_type": "stream",
     "text": [
      "Unexpected parameter: since\n"
     ]
    },
    {
     "name": "stdout",
     "output_type": "stream",
     "text": [
      "http://pbs.twimg.com/media/FQG3SygWUAE0tQS.jpg\n",
      "http://pbs.twimg.com/ext_tw_video_thumb/1514256344953589760/pu/img/qpSjaJ8K79SgLgri.jpg\n",
      "http://pbs.twimg.com/ext_tw_video_thumb/1514256344953589760/pu/img/qpSjaJ8K79SgLgri.jpg\n",
      "http://pbs.twimg.com/ext_tw_video_thumb/1514256344953589760/pu/img/qpSjaJ8K79SgLgri.jpg\n",
      "-----\n",
      "\n",
      "\n",
      "Author: IngridGuimaraes\n",
      "Imagens postadas:\n"
     ]
    },
    {
     "name": "stderr",
     "output_type": "stream",
     "text": [
      "Unexpected parameter: since\n"
     ]
    },
    {
     "name": "stdout",
     "output_type": "stream",
     "text": [
      "http://pbs.twimg.com/media/FQUCmGgWYAA8U3J.jpg\n"
     ]
    },
    {
     "name": "stderr",
     "output_type": "stream",
     "text": [
      "Unexpected parameter: since\n"
     ]
    },
    {
     "name": "stdout",
     "output_type": "stream",
     "text": [
      "http://pbs.twimg.com/media/FQJVMdqWUAMr4xh.jpg\n",
      "-----\n",
      "\n",
      "\n",
      "Author: olazaroramos\n",
      "Imagens postadas:\n"
     ]
    },
    {
     "name": "stderr",
     "output_type": "stream",
     "text": [
      "Unexpected parameter: since\n"
     ]
    },
    {
     "name": "stdout",
     "output_type": "stream",
     "text": [
      "http://pbs.twimg.com/ext_tw_video_thumb/1514547763064803332/pu/img/nWR8QdxOygxE6f22.jpg\n"
     ]
    },
    {
     "name": "stderr",
     "output_type": "stream",
     "text": [
      "Unexpected parameter: since\n"
     ]
    },
    {
     "name": "stdout",
     "output_type": "stream",
     "text": [
      "-----\n",
      "\n",
      "\n",
      "Author: GalisteuOficial\n",
      "Imagens postadas:\n"
     ]
    },
    {
     "name": "stderr",
     "output_type": "stream",
     "text": [
      "Unexpected parameter: since\n",
      "Unexpected parameter: since\n"
     ]
    },
    {
     "name": "stdout",
     "output_type": "stream",
     "text": [
      "-----\n",
      "\n",
      "\n",
      "Author: debranascimento\n",
      "Imagens postadas:\n"
     ]
    },
    {
     "name": "stderr",
     "output_type": "stream",
     "text": [
      "Unexpected parameter: since\n",
      "Unexpected parameter: since\n"
     ]
    },
    {
     "name": "stdout",
     "output_type": "stream",
     "text": [
      "-----\n",
      "\n",
      "\n",
      "Author: FioMattheis\n",
      "Imagens postadas:\n"
     ]
    },
    {
     "name": "stderr",
     "output_type": "stream",
     "text": [
      "Unexpected parameter: since\n",
      "Unexpected parameter: since\n"
     ]
    },
    {
     "name": "stdout",
     "output_type": "stream",
     "text": [
      "-----\n",
      "\n",
      "\n",
      "Author: moalfradique\n",
      "Imagens postadas:\n"
     ]
    },
    {
     "name": "stderr",
     "output_type": "stream",
     "text": [
      "Unexpected parameter: since\n",
      "Unexpected parameter: since\n"
     ]
    },
    {
     "name": "stdout",
     "output_type": "stream",
     "text": [
      "-----\n",
      "\n",
      "\n",
      "Author: Nandacostareal\n",
      "Imagens postadas:\n"
     ]
    },
    {
     "name": "stderr",
     "output_type": "stream",
     "text": [
      "Unexpected parameter: since\n"
     ]
    },
    {
     "name": "stdout",
     "output_type": "stream",
     "text": [
      "-----\n",
      "\n",
      "\n"
     ]
    }
   ],
   "source": [
    "for famoso in famosos:\n",
    "    tweets = tw.Cursor(api.search_tweets, q = famoso).items(20)\n",
    "    print(\"Author:\", famoso)\n",
    "    print(\"Imagens postadas:\")\n",
    "    \n",
    "    for tweet in tweets:\n",
    "        if 'media' in tweet.entities:\n",
    "            print(tweet.entities['media'][0]['media_url'])\n",
    "    print('-----')\n",
    "    print('\\n')"
   ]
  },
  {
   "cell_type": "code",
   "execution_count": 140,
   "id": "75735911",
   "metadata": {},
   "outputs": [],
   "source": [
    "class StreamingListener(tw.Stream):\n",
    "    def on_status(self, status):\n",
    "        print(status.user.screen_name)\n",
    "        print(status.user.location)\n",
    "        print(status.text)\n",
    "        print('-----')\n",
    "        print('\\n')\n",
    "    \n",
    "        "
   ]
  },
  {
   "cell_type": "code",
   "execution_count": 141,
   "id": "7204b9fd",
   "metadata": {},
   "outputs": [],
   "source": [
    "Streaming = StreamingListener(api_key, api_key_secret,token,\n",
    "                       token_secret)"
   ]
  },
  {
   "cell_type": "code",
   "execution_count": 142,
   "id": "54a4ba62",
   "metadata": {},
   "outputs": [],
   "source": [
    "from azure.cognitiveservices.vision.computervision import ComputerVisionClient\n",
    "from msrest.authentication import CognitiveServicesCredentials"
   ]
  },
  {
   "cell_type": "code",
   "execution_count": 143,
   "id": "15963f35",
   "metadata": {},
   "outputs": [],
   "source": [
    "credentials = CognitiveServicesCredentials(\"99deb3fa813740c2aa45210b76546844\")\n"
   ]
  },
  {
   "cell_type": "code",
   "execution_count": 144,
   "id": "c57f1ea0",
   "metadata": {},
   "outputs": [],
   "source": [
    "client = ComputerVisionClient(\"https://conselheirolafa.cognitiveservices.azure.com/\", credentials)"
   ]
  },
  {
   "cell_type": "code",
   "execution_count": 145,
   "id": "985565a7",
   "metadata": {},
   "outputs": [],
   "source": [
    "from azure.cognitiveservices.vision.computervision.models import VisualFeatureTypes\n",
    "url = \"http://pbs.twimg.com/media/FQRF-jxXoAE1Z1w.jpg\"\n",
    "analis_imagem = client.analyze_image(url, visual_features =  [VisualFeatureTypes.tags])"
   ]
  },
  {
   "cell_type": "code",
   "execution_count": 146,
   "id": "b6624cfb",
   "metadata": {},
   "outputs": [],
   "source": [
    "analis_celebridades = client.analyze_image_by_domain(\"celebrities\", url, \"en\")"
   ]
  },
  {
   "cell_type": "code",
   "execution_count": 147,
   "id": "1f54203a",
   "metadata": {},
   "outputs": [
    {
     "name": "stdout",
     "output_type": "stream",
     "text": [
      "Juliana Paes\n",
      "0.9859345555305481\n"
     ]
    }
   ],
   "source": [
    "for famoso in analis_celebridades.result[\"celebrities\"]:\n",
    "    print(famoso['name'])\n",
    "    print(famoso['confidence'])"
   ]
  },
  {
   "cell_type": "code",
   "execution_count": 148,
   "id": "fc019a54",
   "metadata": {},
   "outputs": [
    {
     "data": {
      "text/plain": [
       "'1128627387158224896'"
      ]
     },
     "execution_count": 148,
     "metadata": {},
     "output_type": "execute_result"
    }
   ],
   "source": [
    "api.get_user(screen_name ='carlosdsm7').id_str"
   ]
  },
  {
   "cell_type": "code",
   "execution_count": 149,
   "id": "3d74a847",
   "metadata": {},
   "outputs": [],
   "source": [
    "famosos_id = []\n",
    "\n",
    "for famoso in famosos:\n",
    "    famoso_id = api.get_user(screen_name = famoso).id_str\n",
    "    famosos_id.append(famoso_id)"
   ]
  },
  {
   "cell_type": "code",
   "execution_count": 150,
   "id": "ba4dbddd",
   "metadata": {},
   "outputs": [],
   "source": [
    "import json"
   ]
  },
  {
   "cell_type": "code",
   "execution_count": 195,
   "id": "5b59c220",
   "metadata": {},
   "outputs": [],
   "source": [
    "class StreamingListener(tw.Stream):\n",
    "    def on_status(self, status):\n",
    "        print(\"Usuario:\", status.user.screen_name)\n",
    "        print(\"Texto:\", status.text)\n",
    "        if 'media' in status.entities:\n",
    "            url = status.entities['media'][0]['media_url']\n",
    "            print(\"URL:\", url)\n",
    "\n",
    "            analyze_celebridades = client.analyze_image_by_domain(\"celebrities\", url, \"en\")\n",
    "            lista_celebridades = [famoso[\"name\"] for famoso in analyze_celebridades.result[\"celebrities\"]]\n",
    "            print(lista_celebridades)\n",
    "            \n",
    "            descricao = client.describe_image(url, 1, \"en\")\n",
    "            texto_descricao = descricao.captions[0].text\n",
    "            print(\"Texto descrição\", texto_descricao)\n",
    "            \n",
    "            analise_imagem = client.analyze_image(url, visual_features =  [VisualFeatureTypes.tags])\n",
    "            lista_tags = [tag.name for tag in analise_imagem.tags]\n",
    "            print(\"Tag: \", lista_tags)\n",
    "            \n",
    "            resultados = {\"usuario\" : status.user.screen_name,\n",
    "                \"texto\" : status.text,\n",
    "                \"url\" : url,\n",
    "                \"celebridades\" : lista_celebridades,\n",
    "                \"descrição\" : texto_descricao,\n",
    "                \"tags\" : lista_tags}\n",
    "                \n",
    "            with open(\"tweeets.txt\", \"a\") as arquivo:\n",
    "                arquivo.write(json.dumps(resultados))\n",
    "                arquivo.write(\"\\n\")\n",
    "\n",
    "            \n",
    "        print('-----')\n",
    "        print('\\n')\n",
    "\n"
   ]
  },
  {
   "cell_type": "code",
   "execution_count": 196,
   "id": "4c5c715c",
   "metadata": {},
   "outputs": [],
   "source": [
    "Streaming = None"
   ]
  },
  {
   "cell_type": "code",
   "execution_count": 197,
   "id": "4d1561b3",
   "metadata": {},
   "outputs": [
    {
     "data": {
      "text/plain": [
       "<bound method Stream.filter of <__main__.StreamingListener object at 0x000001F380A91670>>"
      ]
     },
     "execution_count": 197,
     "metadata": {},
     "output_type": "execute_result"
    }
   ],
   "source": [
    "Streaming = StreamingListener(api_key, api_key_secret,token,\n",
    "                       token_secret)\n",
    "Streaming.filter"
   ]
  },
  {
   "cell_type": "code",
   "execution_count": null,
   "id": "8296bca6",
   "metadata": {},
   "outputs": [],
   "source": [
    "Streaming.filter(follow=famosos_id)"
   ]
  },
  {
   "cell_type": "code",
   "execution_count": 169,
   "id": "ac7fbfd4",
   "metadata": {},
   "outputs": [],
   "source": [
    "lista_arquivo = []\n",
    "\n",
    "with open(\"tweets.txt\", \"r\") as arquivo:\n",
    "    for linha in arquivo:\n",
    "        lista_arquivo.append(json.loads(linha))\n"
   ]
  },
  {
   "cell_type": "code",
   "execution_count": 171,
   "id": "4fe182be",
   "metadata": {},
   "outputs": [
    {
     "data": {
      "text/plain": [
       "{'usuario': '1pelegriniG',\n",
       " 'texto': 'RT @otaviano: Hoje é o dia do meu time do coração! 110 anos de uma linda história. Parabéns, Peixão! 🤍🖤 @SantosFC https://t.co/rOngGTf29o',\n",
       " 'url': 'http://pbs.twimg.com/media/FQUPVqNX0AYzDQz.jpg',\n",
       " 'celebridades': ['Otaviano Costa'],\n",
       " 'descrição': 'Otaviano Costa holding a stuffed animal',\n",
       " 'tags': ['person',\n",
       "  'smile',\n",
       "  'clothing',\n",
       "  'mascot',\n",
       "  'human face',\n",
       "  'plush',\n",
       "  'stuffed',\n",
       "  'stuffed toy',\n",
       "  'mammal',\n",
       "  'outdoor',\n",
       "  'furry']}"
      ]
     },
     "execution_count": 171,
     "metadata": {},
     "output_type": "execute_result"
    }
   ],
   "source": [
    "lista_arquivo[0]"
   ]
  },
  {
   "cell_type": "code",
   "execution_count": 173,
   "id": "a5eb0da6",
   "metadata": {},
   "outputs": [],
   "source": [
    "import pandas as pd"
   ]
  },
  {
   "cell_type": "code",
   "execution_count": 174,
   "id": "677c2429",
   "metadata": {},
   "outputs": [],
   "source": [
    "imagens = pd.DataFrame(lista_arquivo)"
   ]
  },
  {
   "cell_type": "code",
   "execution_count": 182,
   "id": "4c29191d",
   "metadata": {},
   "outputs": [
    {
     "data": {
      "text/html": [
       "<div>\n",
       "<style scoped>\n",
       "    .dataframe tbody tr th:only-of-type {\n",
       "        vertical-align: middle;\n",
       "    }\n",
       "\n",
       "    .dataframe tbody tr th {\n",
       "        vertical-align: top;\n",
       "    }\n",
       "\n",
       "    .dataframe thead th {\n",
       "        text-align: right;\n",
       "    }\n",
       "</style>\n",
       "<table border=\"1\" class=\"dataframe\">\n",
       "  <thead>\n",
       "    <tr style=\"text-align: right;\">\n",
       "      <th></th>\n",
       "      <th>usuario</th>\n",
       "      <th>texto</th>\n",
       "      <th>url</th>\n",
       "      <th>celebridades</th>\n",
       "      <th>descrição</th>\n",
       "      <th>tags</th>\n",
       "    </tr>\n",
       "  </thead>\n",
       "  <tbody>\n",
       "    <tr>\n",
       "      <th>0</th>\n",
       "      <td>1pelegriniG</td>\n",
       "      <td>RT @otaviano: Hoje é o dia do meu time do cora...</td>\n",
       "      <td>http://pbs.twimg.com/media/FQUPVqNX0AYzDQz.jpg</td>\n",
       "      <td>[Otaviano Costa]</td>\n",
       "      <td>Otaviano Costa holding a stuffed animal</td>\n",
       "      <td>[person, smile, clothing, mascot, human face, ...</td>\n",
       "    </tr>\n",
       "    <tr>\n",
       "      <th>1</th>\n",
       "      <td>Raynagarros</td>\n",
       "      <td>RT @Aguiarthur: Raio-X • 14/04 https://t.co/yi...</td>\n",
       "      <td>http://pbs.twimg.com/ext_tw_video_thumb/151462...</td>\n",
       "      <td>[]</td>\n",
       "      <td>a person with a microphone</td>\n",
       "      <td>[man, human face, screenshot, cartoon, pc game...</td>\n",
       "    </tr>\n",
       "    <tr>\n",
       "      <th>2</th>\n",
       "      <td>roberthybang</td>\n",
       "      <td>RT @Anitta: A ver las GATAS bailandooooo @CHEN...</td>\n",
       "      <td>http://pbs.twimg.com/ext_tw_video_thumb/151437...</td>\n",
       "      <td>[]</td>\n",
       "      <td>a woman wearing pink pants</td>\n",
       "      <td>[person, outdoor, shoulder, trousers, clothing...</td>\n",
       "    </tr>\n",
       "    <tr>\n",
       "      <th>3</th>\n",
       "      <td>mariwnja</td>\n",
       "      <td>RT @otaviano: Hoje é o dia do meu time do cora...</td>\n",
       "      <td>http://pbs.twimg.com/media/FQUPVqNX0AYzDQz.jpg</td>\n",
       "      <td>[Otaviano Costa]</td>\n",
       "      <td>Otaviano Costa holding a stuffed animal</td>\n",
       "      <td>[person, smile, clothing, mascot, human face, ...</td>\n",
       "    </tr>\n",
       "    <tr>\n",
       "      <th>4</th>\n",
       "      <td>spnferreira</td>\n",
       "      <td>RT @otaviano: Hoje é o dia do meu time do cora...</td>\n",
       "      <td>http://pbs.twimg.com/media/FQUPVqNX0AYzDQz.jpg</td>\n",
       "      <td>[Otaviano Costa]</td>\n",
       "      <td>Otaviano Costa holding a stuffed animal</td>\n",
       "      <td>[person, smile, clothing, mascot, human face, ...</td>\n",
       "    </tr>\n",
       "  </tbody>\n",
       "</table>\n",
       "</div>"
      ],
      "text/plain": [
       "        usuario                                              texto  \\\n",
       "0   1pelegriniG  RT @otaviano: Hoje é o dia do meu time do cora...   \n",
       "1   Raynagarros  RT @Aguiarthur: Raio-X • 14/04 https://t.co/yi...   \n",
       "2  roberthybang  RT @Anitta: A ver las GATAS bailandooooo @CHEN...   \n",
       "3      mariwnja  RT @otaviano: Hoje é o dia do meu time do cora...   \n",
       "4   spnferreira  RT @otaviano: Hoje é o dia do meu time do cora...   \n",
       "\n",
       "                                                 url      celebridades  \\\n",
       "0     http://pbs.twimg.com/media/FQUPVqNX0AYzDQz.jpg  [Otaviano Costa]   \n",
       "1  http://pbs.twimg.com/ext_tw_video_thumb/151462...                []   \n",
       "2  http://pbs.twimg.com/ext_tw_video_thumb/151437...                []   \n",
       "3     http://pbs.twimg.com/media/FQUPVqNX0AYzDQz.jpg  [Otaviano Costa]   \n",
       "4     http://pbs.twimg.com/media/FQUPVqNX0AYzDQz.jpg  [Otaviano Costa]   \n",
       "\n",
       "                                 descrição  \\\n",
       "0  Otaviano Costa holding a stuffed animal   \n",
       "1               a person with a microphone   \n",
       "2               a woman wearing pink pants   \n",
       "3  Otaviano Costa holding a stuffed animal   \n",
       "4  Otaviano Costa holding a stuffed animal   \n",
       "\n",
       "                                                tags  \n",
       "0  [person, smile, clothing, mascot, human face, ...  \n",
       "1  [man, human face, screenshot, cartoon, pc game...  \n",
       "2  [person, outdoor, shoulder, trousers, clothing...  \n",
       "3  [person, smile, clothing, mascot, human face, ...  \n",
       "4  [person, smile, clothing, mascot, human face, ...  "
      ]
     },
     "execution_count": 182,
     "metadata": {},
     "output_type": "execute_result"
    }
   ],
   "source": [
    "imagens.head(5)"
   ]
  },
  {
   "cell_type": "code",
   "execution_count": 176,
   "id": "5d639236",
   "metadata": {},
   "outputs": [],
   "source": [
    "pesquisa = 'concert'"
   ]
  },
  {
   "cell_type": "code",
   "execution_count": 179,
   "id": "3b9f714a",
   "metadata": {},
   "outputs": [],
   "source": [
    "achados = [(pesquisa in lista)for lista in imagens.tags]"
   ]
  },
  {
   "cell_type": "code",
   "execution_count": 183,
   "id": "ec5832ab",
   "metadata": {
    "scrolled": false
   },
   "outputs": [
    {
     "data": {
      "text/html": [
       "<div>\n",
       "<style scoped>\n",
       "    .dataframe tbody tr th:only-of-type {\n",
       "        vertical-align: middle;\n",
       "    }\n",
       "\n",
       "    .dataframe tbody tr th {\n",
       "        vertical-align: top;\n",
       "    }\n",
       "\n",
       "    .dataframe thead th {\n",
       "        text-align: right;\n",
       "    }\n",
       "</style>\n",
       "<table border=\"1\" class=\"dataframe\">\n",
       "  <thead>\n",
       "    <tr style=\"text-align: right;\">\n",
       "      <th></th>\n",
       "      <th>usuario</th>\n",
       "      <th>texto</th>\n",
       "      <th>url</th>\n",
       "      <th>celebridades</th>\n",
       "      <th>descrição</th>\n",
       "      <th>tags</th>\n",
       "    </tr>\n",
       "  </thead>\n",
       "  <tbody>\n",
       "    <tr>\n",
       "      <th>13</th>\n",
       "      <td>magda_pires15</td>\n",
       "      <td>RT @Aguiarthur: BOM DIAAA MEUS AMORES!! Como v...</td>\n",
       "      <td>http://pbs.twimg.com/ext_tw_video_thumb/150800...</td>\n",
       "      <td>[]</td>\n",
       "      <td>a group of people in clothing</td>\n",
       "      <td>[clothing, person, dance, concert, wall, indoo...</td>\n",
       "    </tr>\n",
       "    <tr>\n",
       "      <th>17</th>\n",
       "      <td>magda_pires15</td>\n",
       "      <td>RT @Aguiarthur: /pensativo https://t.co/Z9Ppyn...</td>\n",
       "      <td>http://pbs.twimg.com/media/FQSfqFZWUAoegOi.jpg</td>\n",
       "      <td>[]</td>\n",
       "      <td>a man holding a glass</td>\n",
       "      <td>[person, human face, concert, clothing, man, n...</td>\n",
       "    </tr>\n",
       "    <tr>\n",
       "      <th>19</th>\n",
       "      <td>Adriana96563432</td>\n",
       "      <td>RT @Aguiarthur: BOM DIAAA MEUS AMORES!! Como v...</td>\n",
       "      <td>http://pbs.twimg.com/ext_tw_video_thumb/150800...</td>\n",
       "      <td>[]</td>\n",
       "      <td>a group of people in clothing</td>\n",
       "      <td>[clothing, person, dance, concert, wall, indoo...</td>\n",
       "    </tr>\n",
       "    <tr>\n",
       "      <th>24</th>\n",
       "      <td>magda_pires15</td>\n",
       "      <td>RT @Aguiarthur: ❤️🎤 https://t.co/SPi8VLFLiH</td>\n",
       "      <td>http://pbs.twimg.com/media/FQSSRjQXIAUZ6PG.jpg</td>\n",
       "      <td>[]</td>\n",
       "      <td>a man holding a microphone</td>\n",
       "      <td>[person, human face, clothing, concert, microp...</td>\n",
       "    </tr>\n",
       "    <tr>\n",
       "      <th>28</th>\n",
       "      <td>magda_pires15</td>\n",
       "      <td>RT @Aguiarthur: QUE SHOW MEUS AMIGOS, QUE SHOW...</td>\n",
       "      <td>http://pbs.twimg.com/ext_tw_video_thumb/151448...</td>\n",
       "      <td>[]</td>\n",
       "      <td>a group of people dancing</td>\n",
       "      <td>[person, clothing, concert, man, dance, entert...</td>\n",
       "    </tr>\n",
       "  </tbody>\n",
       "</table>\n",
       "</div>"
      ],
      "text/plain": [
       "            usuario                                              texto  \\\n",
       "13    magda_pires15  RT @Aguiarthur: BOM DIAAA MEUS AMORES!! Como v...   \n",
       "17    magda_pires15  RT @Aguiarthur: /pensativo https://t.co/Z9Ppyn...   \n",
       "19  Adriana96563432  RT @Aguiarthur: BOM DIAAA MEUS AMORES!! Como v...   \n",
       "24    magda_pires15        RT @Aguiarthur: ❤️🎤 https://t.co/SPi8VLFLiH   \n",
       "28    magda_pires15  RT @Aguiarthur: QUE SHOW MEUS AMIGOS, QUE SHOW...   \n",
       "\n",
       "                                                  url celebridades  \\\n",
       "13  http://pbs.twimg.com/ext_tw_video_thumb/150800...           []   \n",
       "17     http://pbs.twimg.com/media/FQSfqFZWUAoegOi.jpg           []   \n",
       "19  http://pbs.twimg.com/ext_tw_video_thumb/150800...           []   \n",
       "24     http://pbs.twimg.com/media/FQSSRjQXIAUZ6PG.jpg           []   \n",
       "28  http://pbs.twimg.com/ext_tw_video_thumb/151448...           []   \n",
       "\n",
       "                        descrição  \\\n",
       "13  a group of people in clothing   \n",
       "17          a man holding a glass   \n",
       "19  a group of people in clothing   \n",
       "24     a man holding a microphone   \n",
       "28      a group of people dancing   \n",
       "\n",
       "                                                 tags  \n",
       "13  [clothing, person, dance, concert, wall, indoo...  \n",
       "17  [person, human face, concert, clothing, man, n...  \n",
       "19  [clothing, person, dance, concert, wall, indoo...  \n",
       "24  [person, human face, clothing, concert, microp...  \n",
       "28  [person, clothing, concert, man, dance, entert...  "
      ]
     },
     "execution_count": 183,
     "metadata": {},
     "output_type": "execute_result"
    }
   ],
   "source": [
    "imagens[achados].head()"
   ]
  }
 ],
 "metadata": {
  "kernelspec": {
   "display_name": "Python 3 (ipykernel)",
   "language": "python",
   "name": "python3"
  },
  "language_info": {
   "codemirror_mode": {
    "name": "ipython",
    "version": 3
   },
   "file_extension": ".py",
   "mimetype": "text/x-python",
   "name": "python",
   "nbconvert_exporter": "python",
   "pygments_lexer": "ipython3",
   "version": "3.9.7"
  }
 },
 "nbformat": 4,
 "nbformat_minor": 5
}
